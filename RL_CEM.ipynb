{
  "nbformat": 4,
  "nbformat_minor": 0,
  "metadata": {
    "colab": {
      "provenance": []
    },
    "kernelspec": {
      "name": "python3",
      "display_name": "Python 3"
    },
    "language_info": {
      "name": "python"
    }
  },
  "cells": [
    {
      "cell_type": "code",
      "source": [
        "# pip install gym-maze-trustycoder83"
      ],
      "metadata": {
        "id": "eBANEGqsSTDX"
      },
      "execution_count": 1,
      "outputs": []
    },
    {
      "cell_type": "code",
      "source": [
        "import os\n",
        "import warnings\n",
        "import time\n",
        "import random\n",
        "import numpy as np\n",
        "warnings.filterwarnings(\"ignore\")\n",
        "os.environ[\"SDL_VIDEODRIVER\"] = \"dummy\""
      ],
      "metadata": {
        "id": "zuMURmQJTP5Q"
      },
      "execution_count": null,
      "outputs": []
    },
    {
      "cell_type": "markdown",
      "source": [],
      "metadata": {
        "id": "RNlxsFk3Ty98"
      }
    },
    {
      "cell_type": "code",
      "source": [
        "import gym\n",
        "import gym_maze\n",
        "\n",
        "env = gym.make('maze-sample-5x5-v0')\n",
        "obs = env.reset()\n",
        "\n",
        "print(obs)"
      ],
      "metadata": {
        "colab": {
          "base_uri": "https://localhost:8080/"
        },
        "id": "8iWR2RxHRVRE",
        "outputId": "e14d0750-77ad-4c9b-819d-624d7d7d53d4"
      },
      "execution_count": null,
      "outputs": [
        {
          "output_type": "stream",
          "name": "stdout",
          "text": [
            "[0 0]\n"
          ]
        }
      ]
    },
    {
      "cell_type": "code",
      "source": [],
      "metadata": {
        "id": "gahwC9WRT4Qh"
      },
      "execution_count": null,
      "outputs": []
    },
    {
      "cell_type": "code",
      "source": [
        "# action = 3\n",
        "\n",
        "for i in range(10):\n",
        "  next_obs, reward, done, _ = env.step(random.randint(0,3))\n",
        "\n",
        "  # env.render()\n",
        "  time.sleep(.5)\n",
        "  print(next_obs)"
      ],
      "metadata": {
        "colab": {
          "base_uri": "https://localhost:8080/"
        },
        "id": "QIPxyeHfT4SQ",
        "outputId": "198943c7-ff72-4a88-f703-181adab7747e"
      },
      "execution_count": null,
      "outputs": [
        {
          "output_type": "stream",
          "name": "stdout",
          "text": [
            "[0 0]\n",
            "[1 0]\n",
            "[0 0]\n",
            "[0 0]\n",
            "[0 0]\n",
            "[0 0]\n",
            "[0 0]\n",
            "[1 0]\n",
            "[1 0]\n",
            "[1 0]\n"
          ]
        }
      ]
    },
    {
      "cell_type": "code",
      "source": [],
      "metadata": {
        "id": "ht7YwqkgUTaj"
      },
      "execution_count": null,
      "outputs": []
    },
    {
      "cell_type": "markdown",
      "source": [
        "# Interface"
      ],
      "metadata": {
        "id": "r0hsvFp2vmN4"
      }
    },
    {
      "cell_type": "code",
      "execution_count": null,
      "metadata": {
        "id": "B_lnzRKvvi7t"
      },
      "outputs": [],
      "source": [
        "## initial_state = env.reset()\n",
        "# initial_state - an initial state S_0 ~ P_0\n",
        "# env.state = initial_state\n",
        "\n",
        "## next_state, reward, done, info = env.step(action)\n",
        "# action = a current action A_t\n",
        "# next_state - an next state S_t+1 ~ P( S_t+1 | S_t, A_t)\n",
        "# reward - a current reward R_t = R(S_t, A_t)\n",
        "# done - the inclusion S_t из мн-ва S_f holds or not (True/False)\n",
        "# info - an additional information\n",
        "# env.state = next_state"
      ]
    },
    {
      "cell_type": "code",
      "source": [
        "state_n = 25\n",
        "action_n = 4\n",
        "\n",
        "class RandomAgent():\n",
        "  def __init__(self, action_n):\n",
        "    self.action_n = action_n\n",
        "    return None\n",
        "  \n",
        "  def get_action(self, state):\n",
        "    return random.randint(0, self.action_n-1)\n",
        "\n",
        "\n",
        "\n",
        "class CEM():\n",
        "  def __init__(self, state_n, action_n):\n",
        "    self.state_n = state_n\n",
        "    self.action_n = action_n\n",
        "    self.policy = np.ones((self.state_n, self.action_n)) / self.action_n\n",
        "\n",
        "  def get_action(self, state):\n",
        "    return int(np.random.choice(np.arange(self.action_n), p=self.policy[state]))\n",
        "\n",
        "  def update_policy(self, elite_trajectories):\n",
        "    pre_policy = np.zeros((self.state_n, self.action_n))\n",
        "    \n",
        "    for trajectory in elite_trajectories:\n",
        "      for state, action in zip(trajectory['states'], trajectory['actions']):\n",
        "        pre_policy[state][action] += 1\n",
        "\n",
        "      for state in range(self.state_n):\n",
        "        if sum(pre_policy[state]) == 0:\n",
        "          self.policy[state] = np.ones(self.action_n) / self.action_n\n",
        "        else:\n",
        "          self.policy[state] = pre_policy[state] / sum(pre_policy[state])\n",
        "    return None\n",
        "\n",
        "\n",
        "def get_state(obs):\n",
        "  return int(obs[1]*np.sqrt(state_n) + obs[0])\n",
        "\n",
        "def get_trajectory(agent, trajectory_len):\n",
        "  trajectory = {'states': [], 'actions': [], 'total_reward': 0}\n",
        "\n",
        "  obs = env.reset()\n",
        "  state = get_state(obs)\n",
        "\n",
        "  for i in range(trajectory_len):\n",
        "    trajectory['states'].append(state)\n",
        "    action = agent.get_action(state)\n",
        "    trajectory['actions'].append(action)\n",
        "\n",
        "    obs, reward, done, _ = env.step(action)\n",
        "    state = get_state(obs)\n",
        "    trajectory['total_reward'] += reward\n",
        "\n",
        "    if done:\n",
        "      break\n",
        "    \n",
        "  return trajectory\n",
        "\n",
        "\n",
        "\n",
        "def get_elite_trajectories(trajectories, q_param):\n",
        "  total_rewards = [trajectory['total_reward'] for trajectory in trajectories]\n",
        "  quantile = np.quantile(total_rewards, q_param)\n",
        "  return [trajectory for trajectory in trajectories if trajectory['total_reward'] > quantile]\n",
        "\n",
        "\n",
        "\n",
        "# agent = RandomAgent(action_n)\n",
        "agent = CEM(state_n, action_n)\n",
        "episode_n = 50\n",
        "trajectory_n = 100\n",
        "trajectory_len = 100\n",
        "q_param = 0.9\n",
        "\n",
        "for _ in range(episode_n):\n",
        "  trajectories = [get_trajectory(agent, trajectory_len) for _ in range(trajectory_n)]\n",
        "  mean_total_reward = np.mean([trajectory['total_reward'] for trajectory in trajectories])\n",
        "  print(mean_total_reward)\n",
        "\n",
        "  elite_trajectories = get_elite_trajectories(trajectories, q_param)\n",
        "  \n",
        "  if len(elite_trajectories) > 0:\n",
        "    agent.update_policy(elite_trajectories)\n",
        "\n",
        "\n",
        "\n"
      ],
      "metadata": {
        "colab": {
          "base_uri": "https://localhost:8080/"
        },
        "id": "oIdQOa0Avl6_",
        "outputId": "e1b06606-e50c-4778-feaa-df18047ede5e"
      },
      "execution_count": null,
      "outputs": [
        {
          "output_type": "stream",
          "name": "stdout",
          "text": [
            "-0.3675600000000003\n",
            "0.5219999999999998\n",
            "0.8588\n",
            "0.91644\n",
            "0.9369199999999998\n",
            "0.9361599999999999\n",
            "0.93684\n",
            "0.9366799999999997\n",
            "0.9366\n",
            "0.9373199999999997\n",
            "0.9363199999999999\n",
            "0.9364399999999997\n",
            "0.9362799999999999\n",
            "0.9364399999999997\n",
            "0.9369999999999998\n",
            "0.9364399999999999\n",
            "0.9374399999999997\n",
            "0.9370799999999998\n",
            "0.9368000000000001\n",
            "0.9369199999999998\n",
            "0.9358000000000001\n",
            "0.9365599999999997\n",
            "0.9369999999999998\n",
            "0.9363999999999999\n",
            "0.9373999999999998\n",
            "0.9372399999999999\n",
            "0.9366399999999999\n",
            "0.9369999999999998\n",
            "0.9363600000000002\n",
            "0.9371599999999998\n",
            "0.9368799999999999\n",
            "0.9362799999999999\n",
            "0.9364\n",
            "0.9365199999999999\n",
            "0.9364799999999999\n",
            "0.9371599999999998\n",
            "0.9369200000000001\n",
            "0.9369599999999998\n",
            "0.93696\n",
            "0.9367999999999997\n",
            "0.9371599999999998\n",
            "0.9372399999999999\n",
            "0.9366399999999999\n",
            "0.9367999999999997\n",
            "0.9360400000000001\n",
            "0.9365999999999999\n",
            "0.93628\n",
            "0.9376000000000002\n",
            "0.93624\n",
            "0.9371199999999998\n"
          ]
        }
      ]
    },
    {
      "cell_type": "code",
      "source": [],
      "metadata": {
        "id": "jmMw8bJ_vl_o"
      },
      "execution_count": null,
      "outputs": []
    },
    {
      "cell_type": "code",
      "source": [
        "trajectory = get_trajectory(agent, trajectory_len)\n",
        "trajectory"
      ],
      "metadata": {
        "colab": {
          "base_uri": "https://localhost:8080/"
        },
        "id": "umLY3Zw0vmCi",
        "outputId": "038d69e8-430c-48c6-e852-f0dd2e0f933c"
      },
      "execution_count": null,
      "outputs": [
        {
          "output_type": "execute_result",
          "data": {
            "text/plain": [
              "{'states': [0, 1, 2, 3, 8, 7, 12, 11, 10, 15, 20, 21, 22, 17, 18, 23],\n",
              " 'actions': [3, 3, 3, 1, 2, 1, 2, 2, 1, 1, 3, 3, 0, 3, 1, 3],\n",
              " 'total_reward': 0.94}"
            ]
          },
          "metadata": {},
          "execution_count": 22
        }
      ]
    },
    {
      "cell_type": "code",
      "source": [],
      "metadata": {
        "id": "ZLRQTZKShTsG"
      },
      "execution_count": null,
      "outputs": []
    },
    {
      "cell_type": "code",
      "source": [],
      "metadata": {
        "id": "t5_hjrqKiE42"
      },
      "execution_count": null,
      "outputs": []
    },
    {
      "cell_type": "code",
      "source": [],
      "metadata": {
        "id": "wN1dCbGxiE62"
      },
      "execution_count": null,
      "outputs": []
    },
    {
      "cell_type": "code",
      "source": [],
      "metadata": {
        "id": "_A_51cYEiE-V"
      },
      "execution_count": null,
      "outputs": []
    },
    {
      "cell_type": "code",
      "source": [],
      "metadata": {
        "id": "XfwRyjgsiFME"
      },
      "execution_count": null,
      "outputs": []
    }
  ]
}